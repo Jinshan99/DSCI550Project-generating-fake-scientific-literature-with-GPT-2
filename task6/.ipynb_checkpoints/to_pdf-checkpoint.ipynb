{
 "cells": [
  {
   "cell_type": "code",
   "execution_count": 1,
   "id": "b6d2a2fb",
   "metadata": {},
   "outputs": [
    {
     "name": "stdout",
     "output_type": "stream",
     "text": [
      "Requirement already satisfied: pdflatex in /Users/apple/opt/anaconda3/lib/python3.9/site-packages (0.1.3)\n",
      "Requirement already satisfied: attrs<19.0,>=18.2 in /Users/apple/opt/anaconda3/lib/python3.9/site-packages (from pdflatex) (18.2.0)\n"
     ]
    }
   ],
   "source": [
    "!pip --default-timeout=100 install -U pdflatex\n"
   ]
  },
  {
   "cell_type": "code",
   "execution_count": null,
   "id": "833614d2",
   "metadata": {},
   "outputs": [
    {
     "name": "stdout",
     "output_type": "stream",
     "text": [
      "Collecting folium==0.2.1\n",
      "  Downloading folium-0.2.1.tar.gz (69 kB)\n",
      "\u001b[K     |████████████████████████████████| 69 kB 2.8 MB/s eta 0:00:01\n",
      "\u001b[?25hRequirement already satisfied: Jinja2 in /Users/apple/opt/anaconda3/lib/python3.9/site-packages (from folium==0.2.1) (2.11.3)\n",
      "Requirement already satisfied: MarkupSafe>=0.23 in /Users/apple/opt/anaconda3/lib/python3.9/site-packages (from Jinja2->folium==0.2.1) (1.1.1)\n",
      "Building wheels for collected packages: folium\n",
      "  Building wheel for folium (setup.py) ... \u001b[?25ldone\n",
      "\u001b[?25h  Created wheel for folium: filename=folium-0.2.1-py3-none-any.whl size=79809 sha256=716396149454c9b87a0327243f58e34bf2413643f7ef5ca2b9cb1afba8261fc0\n",
      "  Stored in directory: /Users/apple/Library/Caches/pip/wheels/47/2a/da/acfca4f9cb052fe6965a6b1b472e62ee2c4c36cecd859233f1\n",
      "Successfully built folium\n",
      "Installing collected packages: folium\n",
      "Successfully installed folium-0.2.1\n",
      "Requirement already satisfied: pdflatex in /Users/apple/opt/anaconda3/lib/python3.9/site-packages (0.1.3)\n",
      "Requirement already satisfied: attrs<19.0,>=18.2 in /Users/apple/opt/anaconda3/lib/python3.9/site-packages (from pdflatex) (18.2.0)\n",
      "Password:"
     ]
    }
   ],
   "source": [
    "\n",
    "!pip install folium==0.2.1\n",
    "!pip install pdflatex\n",
    "!sudo apt-get install texlive-latex-recommended \n",
    "!sudo apt install texlive-latex-extra\n",
    "!sudo apt install dvipng\n",
    "\n"
   ]
  },
  {
   "cell_type": "code",
   "execution_count": 13,
   "id": "3ff8f0cb",
   "metadata": {},
   "outputs": [
    {
     "ename": "FileNotFoundError",
     "evalue": "[Errno 2] No such file or directory: 'pdflatex'",
     "output_type": "error",
     "traceback": [
      "\u001b[0;31m---------------------------------------------------------------------------\u001b[0m",
      "\u001b[0;31mFileNotFoundError\u001b[0m                         Traceback (most recent call last)",
      "\u001b[0;32m/var/folders/hr/12f0m5l5315098jl8vrjcxzh0000gn/T/ipykernel_75614/2521580709.py\u001b[0m in \u001b[0;36m<module>\u001b[0;34m\u001b[0m\n\u001b[1;32m     59\u001b[0m         \u001b[0;31m#import subprocess\u001b[0m\u001b[0;34m\u001b[0m\u001b[0;34m\u001b[0m\u001b[0m\n\u001b[1;32m     60\u001b[0m         \u001b[0;31m#subprocess.call(['pdflatex', TexFileName], shell=False) # shell should be set to False\u001b[0m\u001b[0;34m\u001b[0m\u001b[0;34m\u001b[0m\u001b[0m\n\u001b[0;32m---> 61\u001b[0;31m         \u001b[0msubprocess\u001b[0m\u001b[0;34m.\u001b[0m\u001b[0mPopen\u001b[0m\u001b[0;34m(\u001b[0m\u001b[0;34m[\u001b[0m\u001b[0;34m'pdflatex'\u001b[0m\u001b[0;34m,\u001b[0m\u001b[0mTexFileName\u001b[0m\u001b[0;34m]\u001b[0m\u001b[0;34m,\u001b[0m\u001b[0mshell\u001b[0m\u001b[0;34m=\u001b[0m\u001b[0;32mFalse\u001b[0m\u001b[0;34m)\u001b[0m   \u001b[0;31m#pdflatex\u001b[0m\u001b[0;34m\u001b[0m\u001b[0;34m\u001b[0m\u001b[0m\n\u001b[0m\u001b[1;32m     62\u001b[0m \u001b[0;34m\u001b[0m\u001b[0m\n\u001b[1;32m     63\u001b[0m         \u001b[0;31m##repeate for each row\u001b[0m\u001b[0;34m\u001b[0m\u001b[0;34m\u001b[0m\u001b[0m\n",
      "\u001b[0;32m~/opt/anaconda3/lib/python3.9/subprocess.py\u001b[0m in \u001b[0;36m__init__\u001b[0;34m(self, args, bufsize, executable, stdin, stdout, stderr, preexec_fn, close_fds, shell, cwd, env, universal_newlines, startupinfo, creationflags, restore_signals, start_new_session, pass_fds, user, group, extra_groups, encoding, errors, text, umask)\u001b[0m\n\u001b[1;32m    949\u001b[0m                             encoding=encoding, errors=errors)\n\u001b[1;32m    950\u001b[0m \u001b[0;34m\u001b[0m\u001b[0m\n\u001b[0;32m--> 951\u001b[0;31m             self._execute_child(args, executable, preexec_fn, close_fds,\n\u001b[0m\u001b[1;32m    952\u001b[0m                                 \u001b[0mpass_fds\u001b[0m\u001b[0;34m,\u001b[0m \u001b[0mcwd\u001b[0m\u001b[0;34m,\u001b[0m \u001b[0menv\u001b[0m\u001b[0;34m,\u001b[0m\u001b[0;34m\u001b[0m\u001b[0;34m\u001b[0m\u001b[0m\n\u001b[1;32m    953\u001b[0m                                 \u001b[0mstartupinfo\u001b[0m\u001b[0;34m,\u001b[0m \u001b[0mcreationflags\u001b[0m\u001b[0;34m,\u001b[0m \u001b[0mshell\u001b[0m\u001b[0;34m,\u001b[0m\u001b[0;34m\u001b[0m\u001b[0;34m\u001b[0m\u001b[0m\n",
      "\u001b[0;32m~/opt/anaconda3/lib/python3.9/subprocess.py\u001b[0m in \u001b[0;36m_execute_child\u001b[0;34m(self, args, executable, preexec_fn, close_fds, pass_fds, cwd, env, startupinfo, creationflags, shell, p2cread, p2cwrite, c2pread, c2pwrite, errread, errwrite, restore_signals, gid, gids, uid, umask, start_new_session)\u001b[0m\n\u001b[1;32m   1819\u001b[0m                     \u001b[0;32mif\u001b[0m \u001b[0merrno_num\u001b[0m \u001b[0;34m!=\u001b[0m \u001b[0;36m0\u001b[0m\u001b[0;34m:\u001b[0m\u001b[0;34m\u001b[0m\u001b[0;34m\u001b[0m\u001b[0m\n\u001b[1;32m   1820\u001b[0m                         \u001b[0merr_msg\u001b[0m \u001b[0;34m=\u001b[0m \u001b[0mos\u001b[0m\u001b[0;34m.\u001b[0m\u001b[0mstrerror\u001b[0m\u001b[0;34m(\u001b[0m\u001b[0merrno_num\u001b[0m\u001b[0;34m)\u001b[0m\u001b[0;34m\u001b[0m\u001b[0;34m\u001b[0m\u001b[0m\n\u001b[0;32m-> 1821\u001b[0;31m                     \u001b[0;32mraise\u001b[0m \u001b[0mchild_exception_type\u001b[0m\u001b[0;34m(\u001b[0m\u001b[0merrno_num\u001b[0m\u001b[0;34m,\u001b[0m \u001b[0merr_msg\u001b[0m\u001b[0;34m,\u001b[0m \u001b[0merr_filename\u001b[0m\u001b[0;34m)\u001b[0m\u001b[0;34m\u001b[0m\u001b[0;34m\u001b[0m\u001b[0m\n\u001b[0m\u001b[1;32m   1822\u001b[0m                 \u001b[0;32mraise\u001b[0m \u001b[0mchild_exception_type\u001b[0m\u001b[0;34m(\u001b[0m\u001b[0merr_msg\u001b[0m\u001b[0;34m)\u001b[0m\u001b[0;34m\u001b[0m\u001b[0;34m\u001b[0m\u001b[0m\n\u001b[1;32m   1823\u001b[0m \u001b[0;34m\u001b[0m\u001b[0m\n",
      "\u001b[0;31mFileNotFoundError\u001b[0m: [Errno 2] No such file or directory: 'pdflatex'"
     ]
    }
   ],
   "source": [
    "###== imported packages ==###\n",
    "import csv\n",
    "import subprocess # cf \"http://stackoverflow.com/questions/19683123/\n",
    "                  # compile-latex-from-python\" for original example\n",
    "\n",
    "###== Definition of the LaTeX template (with \"blanks\") ==###\n",
    "    # caution : you need to escape backslashs with backslashs\n",
    "    #   blanks are filed with %(Name)s \n",
    "    # Name are here two letters\n",
    "    # 's' means the variable is a string\n",
    "LatexContent = '''\\\\documentclass{scrartcl}\n",
    "                        \\\\usepackage{graphicx}\n",
    "                        \\\\begin{document}\n",
    "                            \\\\includegraphics[width=1cm,height=3cm]{%(Id)s}\n",
    "                            {\\\\sffamily %(Fn)s \\\\textsc{%(Ln)s}}\n",
    "                                \\\\newline\n",
    "                            \\\\section{Phone}\n",
    "                            {\\\\tiny Phone number: %(Ph)s}\n",
    "                                \\\\newpage\n",
    "                            %(Ot)s\n",
    "                   \\\\end{document}'''\n",
    "\n",
    "###== Look at the database ==##\n",
    "# open the database into python\n",
    "my_db_file = open(\"create_csv.csv\",\"r\")\n",
    "\n",
    "# read the database\n",
    "my_db = csv.reader(my_db_file, delimiter=',',skipinitialspace=True)\n",
    "\n",
    "###== TeX files processing and generating ==###\n",
    "#skip the header of the database\n",
    "next(my_db)\n",
    "\n",
    "#then for each row of the database\n",
    "for row in my_db :\n",
    "        ## Assign the items of the row to the variables that will fill up the \n",
    "        ##    blanks of the LaTeX code\n",
    "        ID = str(row[0])            #caution, first item of a row = index '0'\n",
    "        LastName = str(row[1])\n",
    "        FirstName = str(row[2])\n",
    "        Phone = str(row[3])\n",
    "        Other = str(row[4])\n",
    "\n",
    "            #define the TeX file name\n",
    "        TexFileName = ID + '.tex'\n",
    "\n",
    "        ## create a new LaTeX file with the blanks filled\n",
    "            #create a new file\n",
    "        TexFile = open(TexFileName,'w')\n",
    "\n",
    "            #fill the blanks with the previously read informations\n",
    "        TexFile.write(LatexContent %{\"Id\" : ID, \"Fn\" : FirstName, \n",
    "        \"Ln\" : LastName, \"Ph\" : Phone, \"Ot\" : Other })\n",
    "\n",
    "            #close the file\n",
    "        TexFile.close()\n",
    "\n",
    "        ## compile the file you've just created with LaTeX    \n",
    "        #import subprocess\n",
    "        #subprocess.call(['pdflatex', TexFileName], shell=False) # shell should be set to False\n",
    "        subprocess.Popen(['pdflatex',TexFileName],shell=False)   #pdflatex   \n",
    "\n",
    "        ##repeate for each row\n",
    "\n",
    "#close the database file\n",
    "my_db_file.close()"
   ]
  },
  {
   "cell_type": "code",
   "execution_count": null,
   "id": "d5777d29",
   "metadata": {},
   "outputs": [],
   "source": []
  },
  {
   "cell_type": "code",
   "execution_count": null,
   "id": "c30da2f3",
   "metadata": {},
   "outputs": [],
   "source": []
  }
 ],
 "metadata": {
  "kernelspec": {
   "display_name": "Python 3.9.7 ('base')",
   "language": "python",
   "name": "python397jvsc74a57bd0cf1ee66cb0a5dbbe9b15b35d8b5ef163dfe6de55254de5ac3d70cf481ad0a057"
  },
  "language_info": {
   "codemirror_mode": {
    "name": "ipython",
    "version": 3
   },
   "file_extension": ".py",
   "mimetype": "text/x-python",
   "name": "python",
   "nbconvert_exporter": "python",
   "pygments_lexer": "ipython3",
   "version": "3.9.7"
  }
 },
 "nbformat": 4,
 "nbformat_minor": 5
}
